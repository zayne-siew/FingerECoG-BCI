{
 "cells": [
  {
   "cell_type": "code",
   "execution_count": 117,
   "metadata": {},
   "outputs": [],
   "source": [
    "import numpy as np\n",
    "import scipy.io\n",
    "from scipy.interpolate import interp1d\n",
    "import scipy.signal\n",
    "from sklearn.preprocessing import MinMaxScaler\n",
    "from torch.utils.data import DataLoader, Dataset\n",
    "\n",
    "import mne\n",
    "from mne import create_info\n",
    "from mne.io import RawArray\n",
    "from mne.time_frequency import tfr_array_morlet"
   ]
  },
  {
   "cell_type": "code",
   "execution_count": 60,
   "metadata": {},
   "outputs": [],
   "source": [
    "L_FREQ, H_FREQ = 40, 300 # Lower and upper filtration bounds\n",
    "CHANNELS_NUM = 62        # Number of channels in ECoG data\n",
    "WAVELET_NUM = 40         # Number of wavelets in the indicated frequency range, with which the convolution is performed\n",
    "SAMPLE_RATE = 100        # Final sampling rate for finger flex and ecog data\n",
    "time_delay_secs = 0.2    # Time delay hyperparameter"
   ]
  },
  {
   "cell_type": "code",
   "execution_count": 61,
   "metadata": {},
   "outputs": [],
   "source": [
    "def finger_flex_preprocess(finger_flex, original_hz=1000, actual_hz=25, upsampled_hz=SAMPLE_RATE):\n",
    "\n",
    "    downscaling_ratio = original_hz // actual_hz\n",
    "    finger_flex = finger_flex[:, ::downscaling_ratio]\n",
    "\n",
    "    print(upsampled_hz)\n",
    "\n",
    "    # Time vectors for interpolation\n",
    "    old_time = np.linspace(0, finger_flex.shape[1] - 1, num=finger_flex.shape[1])\n",
    "    new_time = np.linspace(0, finger_flex.shape[1] - 1, num=int(finger_flex.shape[1] * (upsampled_hz / actual_hz)))\n",
    "\n",
    "    # Apply cubic interpolation\n",
    "    interpolator = interp1d(old_time, finger_flex, kind=\"cubic\", axis=1)\n",
    "    finger_flex_interp = interpolator(new_time)\n",
    "\n",
    "    scaler = MinMaxScaler(feature_range=(0, 1))\n",
    "    finger_flex_scaled = scaler.fit_transform(finger_flex_interp.T).T\n",
    "\n",
    "    return finger_flex_scaled\n"
   ]
  },
  {
   "cell_type": "code",
   "execution_count": 62,
   "metadata": {},
   "outputs": [],
   "source": [
    "def ecog_preprocess(train):\n",
    "    original_sfreq = 1000\n",
    "    ch_names = [f\"ch{i}\" for i in range(1, 63)]\n",
    "    ch_types = [\"ecog\"] * 62  # Mark all channels as ECoG\n",
    "\n",
    "    info = create_info(ch_names=ch_names, sfreq=original_sfreq, ch_types=ch_types)\n",
    "\n",
    "    raw = RawArray(train, info)\n",
    "    raw.filter(l_freq=40, h_freq=300, fir_design='firwin')\n",
    "    raw.resample(sfreq=100)\n",
    "\n",
    "    # wavelet frequencies after resample\n",
    "    freqs = np.linspace(5, 50, 40)\n",
    "\n",
    "    # Get ECoG data in NumPy format\n",
    "    X = raw.get_data()  # Shape: (62, time_steps)\n",
    "\n",
    "    # Reshape for MNE input: (1, channels, time_steps)\n",
    "    X = X[np.newaxis, :, :]\n",
    "\n",
    "    # Compute spectrogram using Morlet wavelet transform\n",
    "    X_spectrogram = tfr_array_morlet(\n",
    "        X, sfreq=100, freqs=freqs, output=\"power\"\n",
    "    )  # Shape: (1, 62, 20, time_steps)\n",
    "\n",
    "    # Remove batch dimension\n",
    "    X_spectrogram = X_spectrogram[0]  # Shape: (62, 20, time_steps)\n",
    "\n",
    "    num_channels, num_freqs, num_time_steps = X_spectrogram.shape\n",
    "    X_spectrogram_reshaped = X_spectrogram.reshape(num_channels, -1)  # Flatten freq-time\n",
    "\n",
    "    scaler = MinMaxScaler(feature_range=(0, 1))\n",
    "\n",
    "    X_spectrogram_scaled = scaler.fit_transform(X_spectrogram_reshaped.T).T  # Scale per channel\n",
    "    X_spectrogram_scaled = X_spectrogram_scaled.reshape(num_channels, num_freqs, num_time_steps)\n",
    "\n",
    "    print(\"Scaled Spectrogram Shape:\", X_spectrogram_scaled.shape)\n",
    "\n",
    "    return X_spectrogram"
   ]
  },
  {
   "cell_type": "code",
   "execution_count": 63,
   "metadata": {},
   "outputs": [],
   "source": [
    "def crop_for_time_delay(finger_flex, spectrogramms, time_delay_sec=time_delay_secs, sample_rate=SAMPLE_RATE):\n",
    "\n",
    "    time_delay = int(time_delay_sec*sample_rate)\n",
    "    # The first time_delay seconds of finger flex data have no corresponding spectrograms\n",
    "    finger_flex_cropped = finger_flex[..., time_delay:]\n",
    "    # The last time_delay seconds of spectrograms have no corresponding finger flex data\n",
    "    spectrogramms_cropped = spectrogramms[..., :spectrogramms.shape[2] - time_delay]\n",
    "    return finger_flex_cropped, spectrogramms_cropped"
   ]
  },
  {
   "cell_type": "code",
   "execution_count": null,
   "metadata": {},
   "outputs": [],
   "source": [
    "data = scipy.io.loadmat('BCI_Competion4_dataset4_data_fingerflexions/sub1_comp.mat')\n",
    "\n",
    "finger_flex = data['train_dg'].astype('float32').T\n",
    "finger_flex = finger_flex_preprocess(finger_flex)\n",
    "print(\"Shape:\", finger_flex.shape)"
   ]
  },
  {
   "cell_type": "code",
   "execution_count": null,
   "metadata": {},
   "outputs": [],
   "source": [
    "train = data['train_data'].astype('float32').T\n",
    "X_spectrogram = ecog_preprocess(train)"
   ]
  },
  {
   "cell_type": "code",
   "execution_count": null,
   "metadata": {},
   "outputs": [],
   "source": [
    "finger_flex_cropped, X_spectrogram_cropped = crop_for_time_delay(finger_flex, X_spectrogram)\n",
    "\n",
    "print(finger_flex_cropped.shape, X_spectrogram_cropped.shape)"
   ]
  },
  {
   "cell_type": "code",
   "execution_count": null,
   "metadata": {},
   "outputs": [],
   "source": [
    "data_val = scipy.io.loadmat('BCI_Competion4_dataset4_data_fingerflexions/sub1_testlabels.mat')\n",
    "finger_flex_val = data_val['test_dg'].astype('float32').T\n",
    "finger_flex_val = finger_flex_preprocess(finger_flex_val)\n",
    "print(\"Shape:\", finger_flex_val.shape)"
   ]
  },
  {
   "cell_type": "code",
   "execution_count": null,
   "metadata": {},
   "outputs": [],
   "source": [
    "val = data['test_data'].astype('float32').T\n",
    "X_spectrogram_val = ecog_preprocess(val)"
   ]
  },
  {
   "cell_type": "code",
   "execution_count": null,
   "metadata": {},
   "outputs": [],
   "source": [
    "finger_flex_cropped_val, X_spectrogram_cropped_val = crop_for_time_delay(finger_flex_val, X_spectrogram_val)\n",
    "\n",
    "print(finger_flex_cropped_val.shape, X_spectrogram_cropped_val.shape)"
   ]
  },
  {
   "cell_type": "code",
   "execution_count": 81,
   "metadata": {},
   "outputs": [],
   "source": [
    "class EcogDataset(Dataset):\n",
    "    def __init__(self, data, data_length):\n",
    "        self.spectrogram, self.finger_flex = data\n",
    "        self.spectrogram = self.spectrogram.astype('float32')\n",
    "        self.finger_flex = self.finger_flex.astype('float32')\n",
    "        self.data_length = data_length\n",
    "\n",
    "    def __len__(self):\n",
    "        return self.spectrogram.shape[2] - self.data_length\n",
    "\n",
    "    def __getitem__(self, index):\n",
    "        spectrogram_crop = self.spectrogram[...,index:index+self.data_length]\n",
    "        finger_flex_crop = self.finger_flex[...,index:index+self.data_length]\n",
    "        return spectrogram_crop, finger_flex_crop"
   ]
  },
  {
   "cell_type": "code",
   "execution_count": null,
   "metadata": {},
   "outputs": [],
   "source": [
    "data_length = 256\n",
    "\n",
    "train_dataset = EcogDataset((X_spectrogram_cropped, finger_flex_cropped), data_length)\n",
    "print(X_spectrogram_cropped.shape, finger_flex_cropped.shape)\n",
    "print(len(train_dataset))\n",
    "\n",
    "val_dataset = EcogDataset((X_spectrogram_cropped_val, finger_flex_cropped_val), data_length)\n",
    "print(X_spectrogram_cropped_val.shape, finger_flex_cropped_val.shape)\n",
    "print(len(val_dataset))"
   ]
  },
  {
   "cell_type": "code",
   "execution_count": 83,
   "metadata": {},
   "outputs": [],
   "source": [
    "train_loader = DataLoader(train_dataset, batch_size=32, shuffle=True)\n",
    "val_loader = DataLoader(val_dataset, batch_size=32, shuffle=False)"
   ]
  }
 ],
 "metadata": {
  "kernelspec": {
   "display_name": ".venv",
   "language": "python",
   "name": "python3"
  },
  "language_info": {
   "codemirror_mode": {
    "name": "ipython",
    "version": 3
   },
   "file_extension": ".py",
   "mimetype": "text/x-python",
   "name": "python",
   "nbconvert_exporter": "python",
   "pygments_lexer": "ipython3",
   "version": "3.11.11"
  }
 },
 "nbformat": 4,
 "nbformat_minor": 2
}
